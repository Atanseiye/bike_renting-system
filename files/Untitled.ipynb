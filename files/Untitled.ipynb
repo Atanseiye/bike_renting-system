{
 "cells": [
  {
   "cell_type": "code",
   "execution_count": 1,
   "id": "ae1fb282-742f-48dd-9ae4-590a33ee45bd",
   "metadata": {},
   "outputs": [
    {
     "name": "stdout",
     "output_type": "stream",
     "text": [
      "2023-11-28\n"
     ]
    }
   ],
   "source": [
    "import random\n",
    "import string\n",
    "import datetime\n",
    "\n",
    "# load the current date and time here\n",
    "current_date_time = datetime.datetime.now()\n",
    "print(current_date_time.date())"
   ]
  },
  {
   "cell_type": "code",
   "execution_count": 2,
   "id": "cceba7ba-8f54-4b22-a595-8d79f8e28d29",
   "metadata": {},
   "outputs": [
    {
     "data": {
      "text/plain": [
       "[{'Name': 'Mountain',\n",
       "  'ID': 'bike-LwXCyK',\n",
       "  'Condition': 'good',\n",
       "  'Rented': False,\n",
       "  'Date': datetime.date(2023, 11, 28),\n",
       "  'Time': datetime.time(14, 32, 1, 26849)},\n",
       " {'Name': 'Mountain',\n",
       "  'ID': 'bike-dK80Rg',\n",
       "  'Condition': 'good',\n",
       "  'Rented': False,\n",
       "  'Date': datetime.date(2023, 11, 28),\n",
       "  'Time': datetime.time(14, 32, 1, 26849)}]"
      ]
     },
     "execution_count": 2,
     "metadata": {},
     "output_type": "execute_result"
    }
   ],
   "source": [
    "class Bike:\n",
    "\n",
    "    bike_instance = []\n",
    "\n",
    "    \n",
    "    def Bike_id(length=6):\n",
    "        character = string.ascii_letters + string.digits\n",
    "        id = 'bike-' + ''.join(random.choice(character) for _ in range(length))\n",
    "        return id\n",
    "\n",
    "    def date_time():\n",
    "        current_date_time = datetime.datetime.now()\n",
    "        return [current_date_time.date(), current_date_time.time()]\n",
    "    \n",
    "    def __init__(self, Bike_name):\n",
    "        self.Bike_name = Bike_name\n",
    "        \n",
    "\n",
    "        # append all  created bike instance\n",
    "        Bike.bike_instance.append(self)\n",
    "\n",
    "    @classmethod\n",
    "    def in_bike(cls):\n",
    "        # A method to get all the created bike instances\n",
    "        if len(cls.bike_instance) == 0:\n",
    "            return 'No bike have been added'\n",
    "        else:\n",
    "            return cls.bike_instance\n",
    "\n",
    "    def all_bikes():\n",
    "        all = []\n",
    "        for bike_data in Bike.in_bike():\n",
    "            vaules = {'Name': bike_data.Bike_name,\n",
    "            'ID': Bike.Bike_id(), \n",
    "            'Condition': 'good', \n",
    "            'Rented': False,\n",
    "            'Date': Bike.date_time()[0],\n",
    "            'Time': Bike.date_time()[1]}\n",
    "            all.append(vaules)\n",
    "        return all\n",
    "                \n",
    "\n",
    "    @classmethod\n",
    "    def num_of_Bikes(cls):\n",
    "       if len(cls.bike_instance) == 0:\n",
    "           return 'There is no bike available'\n",
    "       else:\n",
    "           list = len(cls.bike_instance)\n",
    "           return list\n",
    "\n",
    "\n",
    "ind_bikes = []\n",
    "for i in range(2):\n",
    "    ind_bikes.append(Bike('Mountain'))\n",
    "\n",
    "\n",
    "bikes = Bike.all_bikes()\n",
    "bikes"
   ]
  },
  {
   "cell_type": "code",
   "execution_count": 14,
   "id": "70eb9d9c-5b7a-47ac-855f-24851c7b7d21",
   "metadata": {},
   "outputs": [],
   "source": [
    "class Customer:\n",
    "\n",
    "    customers_instance = []\n",
    "\n",
    "    def customer_id(length=7):\n",
    "        character = string.ascii_letters + string.digits\n",
    "        id = 'customer-' + ''.join(random.choice(character) for _ in range(length))\n",
    "        return id\n",
    "\n",
    "    def date_time():\n",
    "        current_date_time = datetime.datetime.now()\n",
    "        return [current_date_time.date(), current_date_time.time()]\n",
    "    \n",
    "    def __init__(self, name, origin):\n",
    "        self.name = name\n",
    "        self.origin = origin\n",
    "\n",
    "        # add each registered customer to the customers' instance\n",
    "        Customer.customers_instance.append(self)\n",
    "\n",
    "\n",
    "    @classmethod\n",
    "    def in_values(cls):\n",
    "        if len(cls.customers_instance) == 0:\n",
    "            return 'We don\\'t have any customer yet'\n",
    "        else:\n",
    "            return cls.customers_instance\n",
    "\n",
    "\n",
    "    def all_customer():\n",
    "        all = []\n",
    "        for customer_data in Customer.in_values():\n",
    "            vaules = {\n",
    "                'Name': customer_data.name,\n",
    "            'ID': Customer.customer_id(), \n",
    "            'Origin': customer_data.origin,\n",
    "            'Date': Customer.date_time()[0],\n",
    "            'Time': Customer.date_time()[1]\n",
    "            }\n",
    "            all.append(vaules)\n",
    "        return all\n",
    "        \n",
    "\n",
    "    @classmethod\n",
    "    def num_of_customers(cls):\n",
    "        if len(cls.customers_instance) == 0:\n",
    "            return 'There is no customer yet'\n",
    "        else:\n",
    "            return len(cls.customers_instance)\n",
    "\n",
    "\n",
    "ind_customer  = []\n",
    "for customers in range(10):\n",
    "    ind_customer.append(Customer('Kolade', 'Ekiti'))\n",
    "\n",
    "\n"
   ]
  },
  {
   "cell_type": "code",
   "execution_count": 21,
   "id": "dae040bb-d635-436a-a9dd-93b5bb191fcf",
   "metadata": {},
   "outputs": [],
   "source": [
    "customers = Customer.all_customer()"
   ]
  },
  {
   "cell_type": "code",
   "execution_count": 22,
   "id": "03621e2c-cea3-4ce8-958e-cee5aaf4ac99",
   "metadata": {},
   "outputs": [
    {
     "data": {
      "text/plain": [
       "[{'Name': 'Kolade',\n",
       "  'ID': 'customer-e7sBsfT',\n",
       "  'Origin': 'Ekiti',\n",
       "  'Date': datetime.date(2023, 11, 8),\n",
       "  'Time': datetime.time(11, 15, 49, 190094)},\n",
       " {'Name': 'Kolade',\n",
       "  'ID': 'customer-f6y8OqX',\n",
       "  'Origin': 'Ekiti',\n",
       "  'Date': datetime.date(2023, 11, 8),\n",
       "  'Time': datetime.time(11, 15, 49, 190094)},\n",
       " {'Name': 'Kolade',\n",
       "  'ID': 'customer-ptFSyvc',\n",
       "  'Origin': 'Ekiti',\n",
       "  'Date': datetime.date(2023, 11, 8),\n",
       "  'Time': datetime.time(11, 15, 49, 190094)},\n",
       " {'Name': 'Kolade',\n",
       "  'ID': 'customer-4GuiaF1',\n",
       "  'Origin': 'Ekiti',\n",
       "  'Date': datetime.date(2023, 11, 8),\n",
       "  'Time': datetime.time(11, 15, 49, 190094)},\n",
       " {'Name': 'Kolade',\n",
       "  'ID': 'customer-SxxsQQV',\n",
       "  'Origin': 'Ekiti',\n",
       "  'Date': datetime.date(2023, 11, 8),\n",
       "  'Time': datetime.time(11, 15, 49, 190094)},\n",
       " {'Name': 'Kolade',\n",
       "  'ID': 'customer-ElUv4fm',\n",
       "  'Origin': 'Ekiti',\n",
       "  'Date': datetime.date(2023, 11, 8),\n",
       "  'Time': datetime.time(11, 15, 49, 190094)},\n",
       " {'Name': 'Kolade',\n",
       "  'ID': 'customer-whrmMLF',\n",
       "  'Origin': 'Ekiti',\n",
       "  'Date': datetime.date(2023, 11, 8),\n",
       "  'Time': datetime.time(11, 15, 49, 190094)},\n",
       " {'Name': 'Kolade',\n",
       "  'ID': 'customer-BuP0o98',\n",
       "  'Origin': 'Ekiti',\n",
       "  'Date': datetime.date(2023, 11, 8),\n",
       "  'Time': datetime.time(11, 15, 49, 190094)},\n",
       " {'Name': 'Kolade',\n",
       "  'ID': 'customer-2bfzAcU',\n",
       "  'Origin': 'Ekiti',\n",
       "  'Date': datetime.date(2023, 11, 8),\n",
       "  'Time': datetime.time(11, 15, 49, 190094)},\n",
       " {'Name': 'Kolade',\n",
       "  'ID': 'customer-N9XgdoO',\n",
       "  'Origin': 'Ekiti',\n",
       "  'Date': datetime.date(2023, 11, 8),\n",
       "  'Time': datetime.time(11, 15, 49, 190094)}]"
      ]
     },
     "execution_count": 22,
     "metadata": {},
     "output_type": "execute_result"
    }
   ],
   "source": [
    "customers"
   ]
  },
  {
   "cell_type": "code",
   "execution_count": 23,
   "id": "79e53c6f-9c97-4d3d-8f2e-f2377337d6a0",
   "metadata": {},
   "outputs": [
    {
     "data": {
      "text/plain": [
       "True"
      ]
     },
     "execution_count": 23,
     "metadata": {},
     "output_type": "execute_result"
    }
   ],
   "source": [
    "renters\n",
    "\n",
    "def check_customer_status(value):\n",
    "    # Assuming there is a class called Customer with a method all_customer()\n",
    "    # that returns a list of customer data\n",
    "    customer_list = customers\n",
    "    key = 'ID'\n",
    "    for d in customer_list:\n",
    "        if key in d and d[key] == value:\n",
    "            return True\n",
    "    return \"We can't find your record.\"\n",
    "\n",
    "check_customer_status('customer-e7sBsfT')"
   ]
  },
  {
   "cell_type": "code",
   "execution_count": 27,
   "id": "238b7d36-5cd2-44d2-a6cd-bcf5bad4e10b",
   "metadata": {},
   "outputs": [
    {
     "name": "stdout",
     "output_type": "stream",
     "text": [
      "[{'Name': 'Mountain', 'ID': 'bike-zZa0xf', 'Condition': 'good', 'Rented': True, 'Date': datetime.date(2023, 11, 8), 'Time': datetime.time(11, 17, 55, 155062)}, {'Name': 'Mountain', 'ID': 'bike-bGFni1', 'Condition': 'good', 'Rented': False, 'Date': datetime.date(2023, 11, 8), 'Time': datetime.time(11, 17, 55, 155062)}] \n",
      "\n",
      "[{'Name': 'Kolade', 'ID': 'customer-e7sBsfT', 'Origin': 'Ekiti', 'Date': datetime.date(2023, 11, 8), 'Time': datetime.time(11, 15, 49, 190094)}, {'Name': 'Mountain', 'ID': 'bike-zZa0xf', 'Condition': 'good', 'Rented': True, 'Date': datetime.date(2023, 11, 8), 'Time': datetime.time(11, 17, 55, 155062)}]\n"
     ]
    }
   ],
   "source": [
    "class rent_bike:\n",
    "    @staticmethod\n",
    "    def get_customers_id(id):\n",
    "        return id\n",
    "\n",
    "    @staticmethod\n",
    "    def check_customer_status(value):\n",
    "        # Assuming there is a class called Customer with a method all_customer()\n",
    "        # that returns a list of customer data\n",
    "        customer_list = customers\n",
    "        key = 'ID'\n",
    "        for d in customer_list:\n",
    "            if key in d and d[key] == value:\n",
    "                return True\n",
    "        return \"We can't find your record.\"\n",
    "\n",
    "    @staticmethod\n",
    "    def select_bike(list_of_bike):\n",
    "        \"\"\"This method takes in the list of bicycles ckecks if it is not yet rented\n",
    "            if rented is False, it picks it and assign it on demand and chenges \n",
    "            rented to True i.e it have been given out\"\"\"\n",
    "        try:\n",
    "            not_rented = [bike for bike in list_of_bike if not bike['Rented']]\n",
    "            if not_rented:\n",
    "                selected = not_rented[0]\n",
    "                selected['Rented'] = True\n",
    "                return [selected, list_of_bike]\n",
    "            else:\n",
    "                return 'No bike is available for now'            \n",
    "        except StopIteration:\n",
    "            pass\n",
    "\n",
    "\n",
    "    \n",
    "\n",
    "    @staticmethod\n",
    "    def get_bike(verify):\n",
    "        # You need to call the check_customer_status method and pass the \n",
    "        # 'verify' parameter\n",
    "        verified = rent_bike.check_customer_status(verify)\n",
    "        # print(verified)\n",
    "        if verified:\n",
    "            # Perform actions if the customer is verified\n",
    "            customer_list = customers\n",
    "            key = 'ID'\n",
    "            for d in customer_list:\n",
    "                if key in d and d[key] == verify:\n",
    "                    bike = rent_bike.select_bike(Bike.all_bikes())\n",
    "                    if isinstance(bike, list):\n",
    "                        bike_granted = [d, bike[0]] \n",
    "                        print(bike[1], '\\n')\n",
    "                        return bike_granted \n",
    "        else:\n",
    "            # Handle the case when the customer is not found\n",
    "            print(verified)\n",
    "\n",
    "# Example usage:\n",
    "# customer_id = 'customer-e7sBsfT'\n",
    "# result = rent_bike.check_customer_status(customer_id)\n",
    "get = rent_bike.get_bike('customer-e7sBsfT')\n",
    "print(get)\n"
   ]
  },
  {
   "cell_type": "code",
   "execution_count": 229,
   "id": "b85764bc-3935-4729-afc9-6192c529e393",
   "metadata": {},
   "outputs": [
    {
     "data": {
      "text/plain": [
       "[{'Name': 'Mountain',\n",
       "  'ID': 'bike-yL8GRL',\n",
       "  'Condition': 'good',\n",
       "  'Rented': True},\n",
       " {'Name': 'Mountain',\n",
       "  'ID': 'bike-NAtkLM',\n",
       "  'Condition': 'good',\n",
       "  'Rented': True},\n",
       " [{'Name': 'Mountain',\n",
       "   'ID': 'bike-yL8GRL',\n",
       "   'Condition': 'good',\n",
       "   'Rented': True},\n",
       "  [{'Name': 'Mountain',\n",
       "    'ID': 'bike-yL8GRL',\n",
       "    'Condition': 'good',\n",
       "    'Rented': True},\n",
       "   {'Name': 'Mountain',\n",
       "    'ID': 'bike-NAtkLM',\n",
       "    'Condition': 'good',\n",
       "    'Rented': False}]]]"
      ]
     },
     "execution_count": 229,
     "metadata": {},
     "output_type": "execute_result"
    }
   ],
   "source": [
    "bikes"
   ]
  },
  {
   "cell_type": "code",
   "execution_count": null,
   "id": "f7a691fc-6294-47a9-b7ac-8e277035d02b",
   "metadata": {},
   "outputs": [],
   "source": []
  },
  {
   "cell_type": "code",
   "execution_count": null,
   "id": "94db7483-fb2d-467c-91bc-c30960076e96",
   "metadata": {},
   "outputs": [],
   "source": []
  },
  {
   "cell_type": "code",
   "execution_count": null,
   "id": "86ce7763-9261-423f-8b93-1be007b0bc7b",
   "metadata": {},
   "outputs": [],
   "source": []
  },
  {
   "cell_type": "code",
   "execution_count": null,
   "id": "7ba49453-50ab-44e8-b11f-67c7c9e9b791",
   "metadata": {},
   "outputs": [],
   "source": []
  },
  {
   "cell_type": "code",
   "execution_count": null,
   "id": "aa05e8a7-a200-4452-93c7-7c9adf5d1d9a",
   "metadata": {},
   "outputs": [],
   "source": []
  },
  {
   "cell_type": "code",
   "execution_count": 222,
   "id": "e5074aa6-ca43-4c4c-89c0-29f676a5e71b",
   "metadata": {},
   "outputs": [
    {
     "data": {
      "text/plain": [
       "'No bike is available for now'"
      ]
     },
     "execution_count": 222,
     "metadata": {},
     "output_type": "execute_result"
    }
   ],
   "source": [
    "def select_bike(list_of_bike):\n",
    "    try:\n",
    "        not_rented = [bike for bike in list_of_bike if not bike['Rented']]\n",
    "        if not_rented:\n",
    "            selected = not_rented[0]\n",
    "            selected['Rented'] = True\n",
    "            return [selected, list_of_bike]\n",
    "        else:\n",
    "            return 'No bike is available for now'            \n",
    "    except StopIteration:\n",
    "        pass\n",
    "\n",
    "select_bike(bike_data)"
   ]
  },
  {
   "cell_type": "code",
   "execution_count": null,
   "id": "762dc4bf-8b99-41bb-a37c-a6281e67075b",
   "metadata": {},
   "outputs": [],
   "source": []
  }
 ],
 "metadata": {
  "kernelspec": {
   "display_name": "Python 3 (ipykernel)",
   "language": "python",
   "name": "python3"
  },
  "language_info": {
   "codemirror_mode": {
    "name": "ipython",
    "version": 3
   },
   "file_extension": ".py",
   "mimetype": "text/x-python",
   "name": "python",
   "nbconvert_exporter": "python",
   "pygments_lexer": "ipython3",
   "version": "3.9.13"
  }
 },
 "nbformat": 4,
 "nbformat_minor": 5
}
